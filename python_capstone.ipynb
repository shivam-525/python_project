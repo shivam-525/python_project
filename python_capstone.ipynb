{
 "cells": [
  {
   "cell_type": "code",
   "execution_count": 2,
   "id": "a5e25783-7d80-4e17-a8f6-edafbe0f530f",
   "metadata": {},
   "outputs": [],
   "source": [
    "# importing neccessary libraries\n",
    "import random \n",
    "import smtplib  # SMTP(simple mail transfer protocol) protocol used for sending emails across the internet.\n",
    "import time    # it is used for the maximum limit for which the OTP is valid."
   ]
  },
  {
   "cell_type": "code",
   "execution_count": 5,
   "id": "6bbacfe0-6fd2-4bdf-87ae-aa21294ce389",
   "metadata": {},
   "outputs": [],
   "source": [
    "# Function to generate a 6-digit OTP\n",
    "def generate_otp():\n",
    "    otp = random.randint(100000, 999999) # using randint we can generate random 6 digits which acts as an otp\n",
    "    return otp\n",
    "\n",
    "# Function to send OTP via email\n",
    "def send_otp_via_email(email, otp):\n",
    "    try:\n",
    "        # Set up the SMTP server\n",
    "        server = smtplib.SMTP('smtp.gmail.com', 587) # 587- it is basically the default port used for SMTP(simple mail transfer protocol).It can be different for yahoo, etc.\n",
    "        server.starttls()   # using tls(transport layer security) we can create a secure connection \n",
    "                            # with 'starttls' we can secure the connection between the client and the email server,ensuring that the email contents, including sensitive information like OTPs, are securely transmitted over the internet.\n",
    "\n",
    "        # Use environment variables or a config file for storing credentials securely\n",
    "        sender_email = \"shivamrajput25896@gmail.com\"   # using my temporary gmail address\n",
    "        sender_password = \"vnwf dwtw emxk rmhq\"   # using app password generated for security   \n",
    "        \n",
    "        server.login(sender_email, sender_password)\n",
    "        \n",
    "        # Email content\n",
    "        subject = \"OTP Verification\"\n",
    "        body = f\"Your OTP code is {otp}. It is valid for 5 minutes.\"\n",
    "        message = f\"Subject: {subject}\\n\\n{body}\"\n",
    "        \n",
    "        # Send the email\n",
    "        server.sendmail(sender_email, email, message)\n",
    "        server.quit() # quit() is used to terminate the connection between your email client (the code) and the SMTP server.\n",
    "        \n",
    "        print(f\"OTP sent to {email}\")\n",
    "    except Exception as e:    # except block is used to catch and handle any errors or exceptions that occur during the execution of the code within the try block.\n",
    "        print(f\"Failed to send email: {e}\")\n",
    "        raise      # used to re-raise the caught exception after handling it."
   ]
  },
  {
   "cell_type": "code",
   "execution_count": null,
   "id": "995b4763-2b92-4cb3-96c5-934b50dddb99",
   "metadata": {},
   "outputs": [],
   "source": [
    "# Function to verify the entered OTP\n",
    "def verify_otp(user_otp, original_otp):\n",
    "    return user_otp == original_otp\n",
    "    \n",
    "# Main function to run the OTP verification system\n",
    "def otp_verification_system():\n",
    "    email = input(\"Enter your email: \")\n",
    "    \n",
    "    # Generate and send OTP\n",
    "    otp = generate_otp()\n",
    "    send_otp_via_email(email, otp)\n",
    "    \n",
    "    max_attempts = 3      # maximum number of attempts that an user gets to verify the otp\n",
    "    valid_duration = 300  # OTP validity in seconds (i.e. 5 minutes)\n",
    "    start_time = time.time()\n",
    "    \n",
    "    for attempt in range(max_attempts):\n",
    "        user_otp = int(input(\"Enter the OTP you received: \"))\n",
    "        \n",
    "        # Check if OTP is within valid time\n",
    "        elapsed_time = time.time() - start_time\n",
    "        if elapsed_time > valid_duration:\n",
    "            print(\"OTP has expired. Please request a new one.\")\n",
    "            return\n",
    "        \n",
    "        if verify_otp(user_otp, otp):\n",
    "            print(\"Access granted!\")\n",
    "            return\n",
    "        else:\n",
    "            print(f\"Incorrect OTP. You have {max_attempts - attempt - 1} attempts left.\")\n",
    "    \n",
    "    print(\"Access denied!\")\n",
    "\n",
    "# Run the OTP verification system\n",
    "if __name__ == \"__main__\":\n",
    "    otp_verification_system()"
   ]
  },
  {
   "cell_type": "code",
   "execution_count": null,
   "id": "edd7439f-41ed-4898-80fc-ec2e22ade2a4",
   "metadata": {},
   "outputs": [],
   "source": []
  }
 ],
 "metadata": {
  "kernelspec": {
   "display_name": "Python 3 (ipykernel)",
   "language": "python",
   "name": "python3"
  },
  "language_info": {
   "codemirror_mode": {
    "name": "ipython",
    "version": 3
   },
   "file_extension": ".py",
   "mimetype": "text/x-python",
   "name": "python",
   "nbconvert_exporter": "python",
   "pygments_lexer": "ipython3",
   "version": "3.12.4"
  }
 },
 "nbformat": 4,
 "nbformat_minor": 5
}
